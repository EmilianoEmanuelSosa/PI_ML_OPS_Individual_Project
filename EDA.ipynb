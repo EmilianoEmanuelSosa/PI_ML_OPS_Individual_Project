{
 "cells": [
  {
   "attachments": {},
   "cell_type": "markdown",
   "metadata": {},
   "source": [
    "# EDA\n",
    "---\n",
    "\n",
    "### 1. Problema de Negocio:\n",
    "+  Se necesita desarrollar un modelo de machine learning, para satisfacer la necesidad de tener un sistema de recomendacion de peliculas, que puede tener diverssas finalidades. Como Data Scientist mi rol es determinal cual es la manera mas efectiva y eficiente de entregar un mvp, de acuerdo a la problematica. Primero es necesario determinar que datos son los mas apropiados para el modelo de recomendacion.\n",
    "#### **`¿Que lista de peliculas son las mas recomendables a partir de una pelicula?`**"
   ]
  },
  {
   "attachments": {},
   "cell_type": "markdown",
   "metadata": {},
   "source": [
    "### 2. El set de datos despues de la limpieza\n",
    "+  La informacion disponible se encuentra en un archivo csv(Dataset_For_Eda) con 45451 filas y 23 columnas.\n",
    "+  Cada registro tiene 23 caracteristicas:\n",
    "\n",
    "    1. **`\"belongs_to_collection\"`**:Un diccionario que indica a que franquicia o serie de películas pertenece la película.\n",
    "    2. **`\"budget\"`**:El presupuesto de la película, en dólares(int)\n",
    "    3. **`\"genres\"`**:Un diccionario que indica todos los géneros asociados a la película.(Dict)\n",
    "    4. **`\"id\"`**: ID de la pelicula.(Int)\n",
    "    5. **`\"original_language\"`**: Idioma original en la que se grabo la pelicula.(Object)\n",
    "    6. **`\"overview\"`**: Pequeño resumen de la película.(Object)\n",
    "    7. **`\"populrity\"`**: Puntaje de popularidad de la película, asignado por TMDB (TheMoviesDataBase).(Float)\n",
    "    8. **`\"production_companies\"`**: Lista con las compañias productoras asociadas a la película.(list)\n",
    "    9. **`\"production_countries\"`**: Lista con los países donde se produjo la película.(list)\n",
    "    10. **`\"release_date\"`**: Fecha de estreno de la película.(Object)\n",
    "    11. **`\"revenue\"`**:Recaudación de la pelicula, en dolares.(Float)\n",
    "    12. **`\"runtime\"`**: Duración de la película, en minutos.(Float)\n",
    "    13. **`\"spoken_languages\"`**: Lista con los idiomas que se hablan en la pelicula.(Object)\n",
    "    14. **`\"status\"`**: Estado de la pelicula actual (si fue anunciada, si ya se estreno, etc).(Object)\n",
    "    15. **`\"tagline\"`**: Frase celebre asociada la pelicula.(Object)\n",
    "    16. **`\"title\"`**: Titulo de la pelicula.(Object)\n",
    "    17. **`\"vote_average\"`**: Puntaje promedio de reseñas de la pelicula.(Float)\n",
    "    18. **`\"vote_count\"`**: Numeros de votos recibidos por la pelicula, en TMDB.(Int)\n",
    "    19. **`\"name_genre\"`**: lista filtrada de los Generos relacionados con la pelicula.(Object)\n",
    "    20. **`\"Collections\"`**: Nombre de la coleccion a la que pertenece.(Object)\n",
    "    21. **`\"release_year\"`**: Año de estreno(Object)\n",
    "    22. **`\"return\"`**: Roi, retorno de inversion de la pelicula.(Int)\n",
    "    23. **`\"director\"`**: Director de la pelicula.(Object)"
   ]
  },
  {
   "attachments": {},
   "cell_type": "markdown",
   "metadata": {},
   "source": [
    "### 3. Lectura del Dataset:\n",
    "+ ##### 3.1 Heatmap"
   ]
  },
  {
   "cell_type": "code",
   "execution_count": 48,
   "metadata": {},
   "outputs": [],
   "source": [
    "import pandas as pd\n",
    "import matplotlib.pyplot as plt\n",
    "import seaborn as sns"
   ]
  },
  {
   "cell_type": "code",
   "execution_count": 49,
   "metadata": {},
   "outputs": [],
   "source": [
    "Eda_dataset=pd.read_csv('Dataset/Dataset_For_Eda.csv')"
   ]
  },
  {
   "cell_type": "code",
   "execution_count": 50,
   "metadata": {},
   "outputs": [
    {
     "name": "stdout",
     "output_type": "stream",
     "text": [
      "<class 'pandas.core.frame.DataFrame'>\n",
      "RangeIndex: 45451 entries, 0 to 45450\n",
      "Data columns (total 23 columns):\n",
      " #   Column                 Non-Null Count  Dtype  \n",
      "---  ------                 --------------  -----  \n",
      " 0   belongs_to_collection  4497 non-null   object \n",
      " 1   budget                 45451 non-null  float64\n",
      " 2   genres                 45451 non-null  object \n",
      " 3   id                     45451 non-null  int64  \n",
      " 4   original_language      45440 non-null  object \n",
      " 5   overview               44510 non-null  object \n",
      " 6   popularity             45451 non-null  float64\n",
      " 7   production_companies   45451 non-null  object \n",
      " 8   production_countries   45451 non-null  object \n",
      " 9   release_date           45451 non-null  object \n",
      " 10  revenue                45451 non-null  float64\n",
      " 11  runtime                45205 non-null  float64\n",
      " 12  spoken_languages       45451 non-null  object \n",
      " 13  status                 45371 non-null  object \n",
      " 14  tagline                20425 non-null  object \n",
      " 15  title                  45451 non-null  object \n",
      " 16  vote_average           45451 non-null  float64\n",
      " 17  vote_count             45451 non-null  float64\n",
      " 18  name_genre             43067 non-null  object \n",
      " 19  Collections            4497 non-null   object \n",
      " 20  release_year           45451 non-null  int64  \n",
      " 21  return                 10942 non-null  float64\n",
      " 22  director               44616 non-null  object \n",
      "dtypes: float64(7), int64(2), object(14)\n",
      "memory usage: 8.0+ MB\n"
     ]
    }
   ],
   "source": [
    "Eda_dataset.info()"
   ]
  },
  {
   "cell_type": "code",
   "execution_count": 51,
   "metadata": {},
   "outputs": [],
   "source": [
    "\n",
    "\n",
    "# Crear una copia del DataFrame sin la columna 'id'\n",
    "Eda_dataset_tmp = Eda_dataset.drop('id', axis=1)\n",
    "\n",
    "# Seleccionar las columnas numéricas del DataFrame temporal\n",
    "data_num = Eda_dataset_tmp.select_dtypes(exclude=['object'])\n",
    "\n",
    "# Codificar las columnas categóricas utilizando one-hot encoding\n",
    "data_cat = pd.get_dummies(Eda_dataset_tmp[['title', 'name_genre']])\n",
    "\n",
    "# Combinar las columnas numéricas y categóricas\n",
    "data_combined = pd.concat([data_num, data_cat], axis=1)\n",
    "\n",
    "# Calcular la matriz de correlación\n",
    "correlation_matrix = data_combined.corr()\n",
    "\n",
    "# Visualizar la matriz de correlación con un mapa de calor\n",
    "plt.figure(figsize=(16, 8))\n",
    "sns.heatmap(correlation_matrix, annot=True, cmap='coolwarm')\n",
    "plt.title('Matriz de Correlación')\n",
    "plt.show()\n",
    "\n"
   ]
  },
  {
   "attachments": {},
   "cell_type": "markdown",
   "metadata": {},
   "source": [
    "##### A simple vista, ciertos campos no aportan ninguna informacion para predecir la lista o por lo menos no tan significativamente, dado que se requiere un MVP(Minimal Viable proyect). las Columnas son: budget, belongs_to_collection, orifinal_language, release_date, status, tagline, Collections, release_year,return, director,overview,revenue,runtime,spoken_languagues,genres.\n",
    "+ #### Se eliminaron por:\n",
    "    1. **`\"belongs_to_collection\"`**: el 85% de la columna son nulos y no es tan significativa la informacion que aporta para el modelo.\n",
    "    2. **`\"original_language\"`**: Es irrelevante al modelo, ya que no determina en gran medida la recomendacion.\n",
    "    3. **`\"release_date\"`**: Es irrelevante al modelo, ya que no determina en gran medida la recomendacion.\n",
    "    4. **`\"status\"`**: Es irrelevante al modelo, ya que no determina en gran medida la recomendacion.\n",
    "    5. **`\"tagline\"`**: Es irrelevante al modelo, ya que no determina en gran medida la recomendacion.\n",
    "    6. **`\"Collections\"`**: Es irrelevante al modelo, ya que no determina en gran medida la recomendacion.\n",
    "    7. **`\"release_year\"`**: Es irrelevante al modelo, ya que no determina en gran medida la recomendacion.\n",
    "    8. **`\"return\"`**: Podria ser util, pero para el MVP decidi optar por otro enfoque.\n",
    "    9. **`\"director\"`**: Podria ser util, pero para el MVP decidi optar por otro enfoque.\n",
    "    10. **`\"overview\"`**: Aportaria mucha informacion, pero es un dato un variable, y se va del alcance para el MVP.\n",
    "    11. **`\"revenue\"`**: Podria ser util, pero para el MVP decidi optar por otro enfoque.\n",
    "    12. **`\"runtime\"`**: Podria ser util, pero para el MVP decidi optar por otro enfoque.\n",
    "    13. **`\"spoken_languages\"`**: Es irrelevante al modelo, ya que no determina en gran medida la recomendacion.\n",
    "    14. **`\"genres\"`**: Se creo una columna con una mejor estructura y con la misma informacion."
   ]
  },
  {
   "cell_type": "code",
   "execution_count": null,
   "metadata": {},
   "outputs": [],
   "source": [
    "Eda_dataset.drop(['belongs_to_collection', 'original_language', 'release_date', 'status', 'tagline', 'Collections', 'release_year', 'return', 'director', 'overview', 'revenue', 'runtime', 'spoken_languages', 'genres'], axis=1, inplace=True)"
   ]
  },
  {
   "cell_type": "code",
   "execution_count": null,
   "metadata": {},
   "outputs": [],
   "source": [
    "Eda_dataset.info()"
   ]
  },
  {
   "cell_type": "code",
   "execution_count": null,
   "metadata": {},
   "outputs": [],
   "source": []
  },
  {
   "attachments": {},
   "cell_type": "markdown",
   "metadata": {},
   "source": [
    "### 4. Analisis Exploratorio\n",
    "##### La idea es utilizar herramientas estadisticas y de visualizacion para:\n",
    "+ Crear un mapa mental del set de datos (entenderlo)\n",
    "+ Empezar a encontrar respuestas a la pregunta planteada inicialmente (**`\"¿Que lista de peliculas son las mas recomendables a partir de una pelicula?\"`**)\n",
    "\n",
    "Llevare a cabo estas fases:\n",
    "1. Analisis de cada variable de Manera **`individual`**.\n",
    "2. Analisis univariado: relacion de cada  **`variable predictora`** con la variable **`target`**.\n",
    "3. Analisis bivariado: relacion de **`pares`** de **`variables predictoras`** con la variable target."
   ]
  },
  {
   "attachments": {},
   "cell_type": "markdown",
   "metadata": {},
   "source": []
  },
  {
   "attachments": {},
   "cell_type": "markdown",
   "metadata": {},
   "source": [
    "### 4.1 Analisis de cada variable de manera individual"
   ]
  },
  {
   "cell_type": "code",
   "execution_count": null,
   "metadata": {},
   "outputs": [],
   "source": [
    "# Histograma de una variable numérica\n",
    "sns.histplot(Eda_dataset['vote_average'], kde=True)\n",
    "plt.xlabel('Puntuación promedio')\n",
    "plt.ylabel('Frecuencia')\n",
    "plt.show()\n",
    "# Diagrama de dispersión de dos variables numéricas\n",
    "sns.scatterplot(x='vote_average', y='vote_count', data=Eda_dataset)\n",
    "plt.xlabel('Puntuación promedio')\n",
    "plt.ylabel('Número de votos')\n",
    "plt.show()"
   ]
  },
  {
   "cell_type": "code",
   "execution_count": null,
   "metadata": {},
   "outputs": [],
   "source": [
    "# Obtener las características de género\n",
    "genre_counts = Eda_dataset['name_genre'].str.get_dummies(',').sum()\n",
    "genre_counts.sort_values(ascending=False, inplace=True)\n",
    "print(genre_counts)\n",
    "\n",
    "# Visualizar las características de género\n",
    "sns.barplot(x=genre_counts.index, y=genre_counts.values)\n",
    "plt.xlabel('Género')\n",
    "plt.ylabel('Número de películas')\n",
    "plt.xticks(rotation=90)\n",
    "plt.show()\n"
   ]
  }
 ],
 "metadata": {
  "kernelspec": {
   "display_name": "Python 3",
   "language": "python",
   "name": "python3"
  },
  "language_info": {
   "codemirror_mode": {
    "name": "ipython",
    "version": 3
   },
   "file_extension": ".py",
   "mimetype": "text/x-python",
   "name": "python",
   "nbconvert_exporter": "python",
   "pygments_lexer": "ipython3",
   "version": "3.11.3"
  },
  "orig_nbformat": 4
 },
 "nbformat": 4,
 "nbformat_minor": 2
}
