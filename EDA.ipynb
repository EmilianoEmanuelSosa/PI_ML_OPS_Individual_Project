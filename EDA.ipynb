{
 "cells": [
  {
   "attachments": {},
   "cell_type": "markdown",
   "metadata": {},
   "source": [
    "# EDA\n",
    "---\n",
    "\n",
    "### 1. Problema de Negocio:\n",
    "+ ##### Se necesita desarrollar un modelo de machine learning, para satisfacer la necesidad de tener un sistema de recomendacion de peliculas, que puede tener diverssas finalidades. Como Data Scientist mi rol es determinal cual es la manera mas efectiva y eficiente de entregar un mvp, de acuerdo a la problematica. Primero es necesario determinar que datos son los mas apropiados para el modelo de recomendacion.\n",
    "#### ¿Que lista de peliculas son las mas recomendables a partir de una pelicula?"
   ]
  },
  {
   "attachments": {},
   "cell_type": "markdown",
   "metadata": {},
   "source": [
    "### 2. El set de datos despues de la limpieza\n",
    "+ ##### la informacion disponible se encuentra en un archivo csv(Dataset_For_Eda) con 45451 filas y 23 columnas.\n",
    "+ ##### Cada registro tiene 23 caracteristicas:\n",
    "\n",
    "    1. **`\"belongs_to_collection\"`**:Un diccionario que indica a que franquicia o serie de películas pertenece la película.\n",
    "    2. **`\"budget\"`**:El presupuesto de la película, en dólares(int)\n",
    "    3. **`\"genres\"`**:Un diccionario que indica todos los géneros asociados a la película.(Dict)\n",
    "    4. **`\"id\"`**: ID de la pelicula.(Int)\n",
    "    5. **`\"original_language\"`**: Idioma original en la que se grabo la pelicula.(Object)\n",
    "    6. **`\"overview\"`**: Pequeño resumen de la película.(Object)\n",
    "    7. **`\"populrity\"`**: Puntaje de popularidad de la película, asignado por TMDB (TheMoviesDataBase).(Float)\n",
    "    8. **`\"production_companies\"`**: Lista con las compañias productoras asociadas a la película.(list)\n",
    "    9. **`\"production_countries\"`**: Lista con los países donde se produjo la película.(list)\n",
    "    10. **`\"release_date\"`**: Fecha de estreno de la película.(Object)\n",
    "    11. **`\"revenue\"`**:Recaudación de la pelicula, en dolares.(Float)\n",
    "    12. **`\"runtime\"`**: Duración de la película, en minutos.(Float)\n",
    "    13. **`\"spoken_languages\"`**: Lista con los idiomas que se hablan en la pelicula.(Object)\n",
    "    14. **`\"status\"`**: Estado de la pelicula actual (si fue anunciada, si ya se estreno, etc).(Object)\n",
    "    15. **`\"tagline\"`**: Frase celebre asociadaa la pelicula.(Object)\n",
    "    16. **`\"title\"`**: Titulo de la pelicula.(Object)\n",
    "    17. **`\"vote_average\"`**: Puntaje promedio de reseñas de la pelicula.(Float)\n",
    "    18. **`\"vote_count\"`**: Numeros de votos recibidos por la pelicula, en TMDB.(Int)\n",
    "    19. **`\"name_genre\"`**: lista filtrada de los Generos relacionados con la pelicula.(Object)\n",
    "    20. **`\"Collections\"`**: Nombre de la coleccion a la que pertenece.(Object)\n",
    "    21. **`\"release_year\"`**: Año de estreno(Object)\n",
    "    22. **`\"return\"`**: Roi, retorno de inversion de la pelicula.(Int)\n",
    "    23. **`\"director\"`**: Director de la pelicula.(Object)"
   ]
  },
  {
   "attachments": {},
   "cell_type": "markdown",
   "metadata": {},
   "source": [
    "### 3. Lectura del Dataset:"
   ]
  },
  {
   "cell_type": "code",
   "execution_count": 21,
   "metadata": {},
   "outputs": [],
   "source": [
    "import pandas as pd\n",
    "import matplotlib.pyplot as plt\n",
    "import seaborn as sns"
   ]
  }
 ],
 "metadata": {
  "kernelspec": {
   "display_name": "Python 3",
   "language": "python",
   "name": "python3"
  },
  "language_info": {
   "codemirror_mode": {
    "name": "ipython",
    "version": 3
   },
   "file_extension": ".py",
   "mimetype": "text/x-python",
   "name": "python",
   "nbconvert_exporter": "python",
   "pygments_lexer": "ipython3",
   "version": "3.11.3"
  },
  "orig_nbformat": 4
 },
 "nbformat": 4,
 "nbformat_minor": 2
}
