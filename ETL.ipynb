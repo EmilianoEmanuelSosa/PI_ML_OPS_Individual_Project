{
 "cells": [
  {
   "attachments": {},
   "cell_type": "markdown",
   "metadata": {},
   "source": [
    "# Transfomaciones de los datos\n",
    "---"
   ]
  },
  {
   "cell_type": "code",
   "execution_count": 1,
   "metadata": {},
   "outputs": [],
   "source": [
    "import pandas as pd\n",
    "import re\n",
    "import ast\n",
    "import json"
   ]
  },
  {
   "attachments": {},
   "cell_type": "markdown",
   "metadata": {},
   "source": [
    "### Carga de los Datasets"
   ]
  },
  {
   "cell_type": "code",
   "execution_count": 2,
   "metadata": {},
   "outputs": [
    {
     "name": "stderr",
     "output_type": "stream",
     "text": [
      "/tmp/ipykernel_13221/528740004.py:2: DtypeWarning: Columns (10) have mixed types. Specify dtype option on import or set low_memory=False.\n",
      "  movies=pd.read_csv('Dataset/movies_dataset.csv')\n"
     ]
    }
   ],
   "source": [
    "credits=pd.read_csv('Dataset/credits.csv')\n",
    "movies=pd.read_csv('Dataset/movies_dataset.csv')"
   ]
  },
  {
   "attachments": {},
   "cell_type": "markdown",
   "metadata": {},
   "source": [
    "### Funcion para desanidar cadenas"
   ]
  },
  {
   "cell_type": "code",
   "execution_count": 3,
   "metadata": {},
   "outputs": [],
   "source": [
    "def extrac_data(df, columna):\n",
    "    def extrac_data(valor):\n",
    "        if isinstance(valor, str):\n",
    "            pattern = r\"'name': '([^']*)'\"\n",
    "            coincidencias = re.findall(pattern, valor)\n",
    "            return coincidencias\n",
    "        elif isinstance(valor, list):\n",
    "            valores = []\n",
    "            for elemento in valor:\n",
    "                valores.extend(extrac_data(elemento))\n",
    "            return valores\n",
    "        elif isinstance(valor, dict):\n",
    "            valores = []\n",
    "            for clave, elemento in valor.items():\n",
    "                if clave == 'name':\n",
    "                    valores.append(elemento)\n",
    "                elif isinstance(elemento, (str, list, dict)):\n",
    "                    valores.extend(extrac_data(elemento))\n",
    "            return valores\n",
    "        return None\n",
    "\n",
    "    df[columna] = df[columna].apply(extrac_data)\n",
    "\n",
    "    return df\n"
   ]
  },
  {
   "attachments": {},
   "cell_type": "markdown",
   "metadata": {},
   "source": [
    "### Función para corregir el formato del contenido de la columna \"genres\""
   ]
  },
  {
   "cell_type": "code",
   "execution_count": 4,
   "metadata": {},
   "outputs": [],
   "source": [
    "def fix_genre_format(genres):\n",
    "    return json.loads(genres.replace(\"'\", \"\\\"\"))"
   ]
  },
  {
   "attachments": {},
   "cell_type": "markdown",
   "metadata": {},
   "source": [
    "### Corregir el formato del contenido de la columna \"genres\""
   ]
  },
  {
   "cell_type": "code",
   "execution_count": 5,
   "metadata": {},
   "outputs": [],
   "source": [
    "movies['genres'] = movies['genres'].apply(fix_genre_format)"
   ]
  },
  {
   "attachments": {},
   "cell_type": "markdown",
   "metadata": {},
   "source": [
    "### Función para extraer los nombres de los géneros"
   ]
  },
  {
   "cell_type": "code",
   "execution_count": 6,
   "metadata": {},
   "outputs": [],
   "source": [
    "def extract_genre_names(row):\n",
    "    genres_data = row\n",
    "    genre_names = [genre['name'] for genre in genres_data]\n",
    "    return ','.join(genre_names)"
   ]
  },
  {
   "attachments": {},
   "cell_type": "markdown",
   "metadata": {},
   "source": [
    "### Crear la nueva columna \"name_genre\""
   ]
  },
  {
   "cell_type": "code",
   "execution_count": 7,
   "metadata": {},
   "outputs": [],
   "source": [
    "movies['name_genre'] = movies['genres'].apply(extract_genre_names)"
   ]
  },
  {
   "attachments": {},
   "cell_type": "markdown",
   "metadata": {},
   "source": [
    "### Aplicamos la funcion para desanidar sobre los campos necesarios"
   ]
  },
  {
   "cell_type": "code",
   "execution_count": 8,
   "metadata": {},
   "outputs": [],
   "source": [
    "# Aplicar la función a las columnas \"belongs_to_collection\" y \"production_companies\"\n",
    "movies = extrac_data(movies, 'belongs_to_collection')\n",
    "movies = extrac_data(movies, 'production_companies')"
   ]
  },
  {
   "attachments": {},
   "cell_type": "markdown",
   "metadata": {},
   "source": [
    "### Los valores nulos de los campos **`revenue`**, **`budget`** son ser rellenados por el número 0."
   ]
  },
  {
   "cell_type": "code",
   "execution_count": 9,
   "metadata": {},
   "outputs": [],
   "source": [
    "movies['revenue'].fillna(0, inplace=True)\n",
    "movies['budget'].fillna(0, inplace=True)"
   ]
  },
  {
   "attachments": {},
   "cell_type": "markdown",
   "metadata": {},
   "source": [
    "### Los valores nulos del campo **`release date`** deben eliminarse"
   ]
  },
  {
   "cell_type": "code",
   "execution_count": 10,
   "metadata": {},
   "outputs": [
    {
     "data": {
      "text/plain": [
       "0"
      ]
     },
     "execution_count": 10,
     "metadata": {},
     "output_type": "execute_result"
    }
   ],
   "source": [
    "# Patrón de fecha que consiste en cuatro dígitos seguidos de un guion, dos dígitos y otro guion, y dos dígitos más\n",
    "pattern = r'^\\d{4}-\\d{2}-\\d{2}$'\n",
    "\n",
    "# Convertir la columna 'release_date' a tipo de datos string (cadena)\n",
    "movies['release_date'] = movies['release_date'].astype(str)\n",
    "\n",
    "# Filtrar las filas que no coinciden con el patrón de fecha\n",
    "non_matching_movies = movies[~movies['release_date'].str.contains(pattern)]\n",
    "\n",
    "# Eliminar las filas que no coinciden con el patrón del DataFrame 'movies'\n",
    "movies = movies.drop(non_matching_movies.index)\n",
    "\n",
    "# Eliminar los valores nulos restantes en la columna 'release_date'\n",
    "movies['release_date'].dropna(inplace=True)\n",
    "\n",
    "# Comprobar la cantidad de valores nulos en la columna 'release_date'\n",
    "movies['release_date'].isnull().sum()\n"
   ]
  },
  {
   "attachments": {},
   "cell_type": "markdown",
   "metadata": {},
   "source": [
    "###  Creamos la columna **`release_year`** donde extraerán el año de la fecha de estreno."
   ]
  },
  {
   "cell_type": "code",
   "execution_count": 11,
   "metadata": {},
   "outputs": [],
   "source": [
    "# Convierte la columna 'release_date' a tipo de dato datetime\n",
    "movies['release_date'] = pd.to_datetime(movies['release_date'], errors='coerce')\n",
    "\n",
    "# Extrae el año de la columna 'release_date' y asignalo a una nueva columna 'release_year'\n",
    "movies['release_year'] = movies['release_date'].dt.year"
   ]
  },
  {
   "cell_type": "code",
   "execution_count": 12,
   "metadata": {},
   "outputs": [],
   "source": [
    "# Convertir la columna 'budget' a tipo float\n",
    "movies['budget'] = movies['budget'].astype(float)\n",
    "\n",
    "# Calcular el retorno de inversión y asignar el valor 0 cuando no hay datos disponibles\n",
    "movies['return'] = movies['revenue'].div(movies['budget'], fill_value=0)\n",
    "\n",
    "# Remplazar NaN por 0\n",
    "movies['return']= movies['return'].fillna(0)"
   ]
  },
  {
   "attachments": {},
   "cell_type": "markdown",
   "metadata": {},
   "source": [
    "###   Cree la columna con el retorno de inversion, dividiendo estas dos columnas: **`revenue / budget`**."
   ]
  },
  {
   "cell_type": "code",
   "execution_count": 13,
   "metadata": {},
   "outputs": [],
   "source": [
    "# Verificar y eliminar filas con valores no numéricos o nulos en la columna 'budget'\n",
    "movies = movies[pd.to_numeric(movies['budget'], errors='coerce').notnull()]\n",
    "# Convertir la columna 'budget' a tipo de dato float\n",
    "movies['budget'] = movies['budget'].astype(float)\n",
    "# Calcular el ratio entre 'revenue' y 'budget' y asignarlo a la columna 'return'\n",
    "movies['return'] = movies['revenue'] / movies['budget']\n"
   ]
  },
  {
   "attachments": {},
   "cell_type": "markdown",
   "metadata": {},
   "source": [
    "\n",
    "### Elimino las columnas que no serán utilizadas, **`video`**,**`imdb_id`**,**`adult`**,**`original_title`**,**`poster_path`** y **`homepage`**."
   ]
  },
  {
   "cell_type": "code",
   "execution_count": 14,
   "metadata": {},
   "outputs": [],
   "source": [
    "# Eliminar múltiples columnas\n",
    "columnas_a_eliminar = ['video', 'imdb_id', 'adult','original_title','poster_path','homepage']\n",
    "movies = movies.drop(columnas_a_eliminar, axis=1)"
   ]
  },
  {
   "attachments": {},
   "cell_type": "markdown",
   "metadata": {},
   "source": [
    "<br></br>"
   ]
  },
  {
   "attachments": {},
   "cell_type": "markdown",
   "metadata": {},
   "source": [
    "\n",
    "### Preparo el dataframe de **`Movies`** para mergearlo con **`Credits`** "
   ]
  },
  {
   "cell_type": "code",
   "execution_count": 15,
   "metadata": {},
   "outputs": [],
   "source": [
    "#convierto el id de object a Int\n",
    "movies['id']=movies['id'].astype(int)"
   ]
  },
  {
   "attachments": {},
   "cell_type": "markdown",
   "metadata": {},
   "source": [
    "### Los valores de nombre del director estan en un formato json incorrecto. Hay que extraerlo"
   ]
  },
  {
   "cell_type": "code",
   "execution_count": 16,
   "metadata": {},
   "outputs": [],
   "source": [
    "# convertimos en lista los valores de la columna\n",
    "credits['crew'] = credits['crew'].apply(ast.literal_eval)"
   ]
  },
  {
   "attachments": {},
   "cell_type": "markdown",
   "metadata": {},
   "source": [
    "### Funcion para extraer el nombre del director"
   ]
  },
  {
   "cell_type": "code",
   "execution_count": 17,
   "metadata": {},
   "outputs": [],
   "source": [
    "def extract_director_name(crew_list):\n",
    "    for crew_member in crew_list:\n",
    "        if crew_member['job'] == 'Director':\n",
    "            return crew_member['name']\n",
    "    return None\n",
    "\n",
    "# Aplicar la función a la columna\n",
    "credits['director'] = credits['crew'].apply(extract_director_name)"
   ]
  },
  {
   "attachments": {},
   "cell_type": "markdown",
   "metadata": {},
   "source": [
    "### Dejo solamente las columnas id y director"
   ]
  },
  {
   "cell_type": "code",
   "execution_count": 18,
   "metadata": {},
   "outputs": [],
   "source": [
    "credits=credits[['director','id']]"
   ]
  },
  {
   "attachments": {},
   "cell_type": "markdown",
   "metadata": {},
   "source": [
    "### Se hace el Merge en base al campo Id"
   ]
  },
  {
   "cell_type": "code",
   "execution_count": 19,
   "metadata": {},
   "outputs": [],
   "source": [
    "movies_Credits_Merged = movies.merge(credits, on=\"id\")"
   ]
  },
  {
   "attachments": {},
   "cell_type": "markdown",
   "metadata": {},
   "source": [
    "### Dejo solamente las columnas necesarias para las Funciones de la Api"
   ]
  },
  {
   "cell_type": "code",
   "execution_count": 20,
   "metadata": {},
   "outputs": [],
   "source": [
    "movies_Credits_Merged=movies_Credits_Merged[['title','runtime','release_date','production_companies','revenue','budget','vote_average','vote_count','release_year','director','return','name_genre','original_language']]"
   ]
  },
  {
   "attachments": {},
   "cell_type": "markdown",
   "metadata": {},
   "source": [
    "### Creo el Csv final"
   ]
  },
  {
   "cell_type": "code",
   "execution_count": 21,
   "metadata": {},
   "outputs": [],
   "source": [
    "movies_Credits_Merged.to_csv('Dataset_Api_Web/Movies_Credits_Merged.csv',index=False)"
   ]
  }
 ],
 "metadata": {
  "kernelspec": {
   "display_name": "Python 3",
   "language": "python",
   "name": "python3"
  },
  "language_info": {
   "codemirror_mode": {
    "name": "ipython",
    "version": 3
   },
   "file_extension": ".py",
   "mimetype": "text/x-python",
   "name": "python",
   "nbconvert_exporter": "python",
   "pygments_lexer": "ipython3",
   "version": "3.11.3"
  },
  "orig_nbformat": 4
 },
 "nbformat": 4,
 "nbformat_minor": 2
}
